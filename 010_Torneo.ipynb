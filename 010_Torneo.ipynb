{
 "cells": [
  {
   "cell_type": "markdown",
   "id": "06b160b3-3ba9-4a45-99a3-416c65829c33",
   "metadata": {},
   "source": [
    "## Torneo:"
   ]
  },
  {
   "cell_type": "markdown",
   "id": "9086787b-a344-414f-9b7c-13643618be50",
   "metadata": {},
   "source": [
    "#### La siguiente es una plataforma de torneo (clases Tournament, Match y Arena) que permite en forma automática:\n",
    "* Levantar todos los modelos desde una carpeta como jugadores del torneo.\n",
    "* Generar todas las combinaciones de partidos entre si y jugarlos utilizando múltiples procesos en paralelo.\n",
    "* Registrar los puntos obtenidos por cada jugador en cada match.\n",
    "* Mostrar los resultados: ganadores y la tabla de posiciones final.\n",
    "\n",
    "Ver: tournament.py, arena.py y play_tournament.py"
   ]
  },
  {
   "cell_type": "markdown",
   "id": "eeaa9c19-0e7c-45fb-a7b7-496d70dc9277",
   "metadata": {},
   "source": [
    "### Reglas:"
   ]
  },
  {
   "cell_type": "markdown",
   "id": "f372a8b7-4244-4bf5-9013-11313f63d68f",
   "metadata": {},
   "source": [
    "Las reglas del torneo son:\n",
    "* El torneo es un \"todos contra todos\". Se juega un \"match\" entre cada combinación de jugadores. El match consiste de varias partidas (games). El ganador del match es quien haya ganado la mayoría de los games (por ej se puede configurar 100 partidos por match)\n",
    "* Si un jugador gana un match suma 3 puntos, si empata 1 y si pierde 0.\n",
    "* El o los ganadores del torneo son aquellos jugadores con la mayor cantidad de puntos."
   ]
  },
  {
   "cell_type": "markdown",
   "id": "9ebe1d2a-9b6b-4588-a373-472ed3b09a50",
   "metadata": {},
   "source": [
    "Las estadísticas de cada partida son ademas loggeadas en la carpeta especificada como log_folder. Cada partida se guarda en un archivo .log separado. Cada archivo muestra estadísticas como: Porcentajes de partidas ganadas, perdidas y empatadas en cada match, cuantas veces jugo primero o segundo un jugador, etc."
   ]
  },
  {
   "cell_type": "code",
   "execution_count": 1,
   "id": "edb4aeae-e417-4568-bb2e-ebf049ab2a99",
   "metadata": {},
   "outputs": [],
   "source": [
    "%load_ext autoreload\n",
    "%autoreload 2"
   ]
  },
  {
   "cell_type": "code",
   "execution_count": 2,
   "id": "eaafa817-cb42-4332-9e83-cd98d4be27d8",
   "metadata": {},
   "outputs": [],
   "source": [
    "from tournament import Tournament"
   ]
  },
  {
   "cell_type": "code",
   "execution_count": 3,
   "id": "dd571d37-b86c-4fb7-a2b7-5d78903c1354",
   "metadata": {},
   "outputs": [],
   "source": [
    "torneo = Tournament(\n",
    "    models_folder = \"./selected_models\",\n",
    "    games_per_match = 100,\n",
    "    board_shape = 8,\n",
    "    deterministic = False,\n",
    "    device = \"cpu\",\n",
    "    n_processes = 8,\n",
    "    verbose = True,\n",
    "    add_default_players = True, # Agrega como jugadores también a RandomPlayer y GreedyPlayer\n",
    "    log_folder = \"./tournaments_logs\"\n",
    ")"
   ]
  },
  {
   "cell_type": "code",
   "execution_count": 4,
   "id": "53a4a9dc-696a-4d30-afcc-adfa945c99cc",
   "metadata": {},
   "outputs": [
    {
     "name": "stdout",
     "output_type": "stream",
     "text": [
      "Initiating Tournament: \n",
      "\n",
      "Logging matches in the following folder: /home/rfondato/rl_final_project/tournaments_logs/Tournament_2021-08-27_20:54:34.339805 \n",
      "\n",
      "\u001b[92mCompetitors: \u001b[0m\n",
      "\u001b[92m* 2do_modelo_vs_Random_1M\u001b[0m\n",
      "\u001b[92m* 1er_intento_vs_Random_100k\u001b[0m\n",
      "\u001b[92m* Modelo_CNN_vs_Random_3M\u001b[0m\n",
      "\u001b[92m* 2do_modelo_vs_multiple_opps\u001b[0m\n",
      "\u001b[92m* Modelo_iterativo_vs_multiple_opps\u001b[0m\n",
      "\u001b[92m* 1er_modelo_vs_Random_1M\u001b[0m\n",
      "\u001b[92m* Mejor_Modelo\u001b[0m\n",
      "\u001b[92m* 3er_modelo_vs_Random_32x32_2M\u001b[0m\n",
      "\u001b[92m* 1er_modelo_vs_multiple_opps\u001b[0m\n",
      "\u001b[92m* RandomPlayer\u001b[0m\n",
      "\u001b[92m* GreedyPlayer\u001b[0m\n",
      "\n",
      "Playing 55 matches in 8 processes...\n",
      "\n",
      "\u001b[KFinished 55 of 55\n",
      "\u001b[1m\u001b[96mWINNER: Mejor_Modelo\u001b[0m\u001b[0m\n",
      "\n",
      "1 - Mejor_Modelo - 30 points\n",
      "2 - Modelo_iterativo_vs_multiple_opps - 27 points\n",
      "3 - 2do_modelo_vs_multiple_opps - 24 points\n",
      "4 - 1er_modelo_vs_multiple_opps - 21 points\n",
      "5 - 3er_modelo_vs_Random_32x32_2M - 18 points\n",
      "6 - 1er_modelo_vs_Random_1M - 15 points\n",
      "7 - 2do_modelo_vs_Random_1M - 12 points\n",
      "8 - Modelo_CNN_vs_Random_3M - 9 points\n",
      "9 - 1er_intento_vs_Random_100k - 6 points\n",
      "10 - GreedyPlayer - 3 points\n",
      "11 - RandomPlayer - 0 points\n"
     ]
    }
   ],
   "source": [
    "torneo.play()"
   ]
  },
  {
   "cell_type": "markdown",
   "id": "809460b1-692b-4772-8065-6ef7d6cf9b38",
   "metadata": {},
   "source": [
    "### Observaciones:\n",
    "* Los modelos iterativos contra las mejores versiones anteriores se ubican en el podio (Mejor_Modelo y modelo_iterativo_vs_multiple_opps).\n",
    "* Le siguen los modelos contra múltiples estrategias pero entrenados de cero.\n",
    "* Los modelos que solo entrenaron contra Random se ubican por debajo.\n",
    "* El modelo CNN es bastante malo. Solo le gana a Random, Greedy y al primer intento que solo entrenó 100k timesteps.\n",
    "* Greedy le gana solo a Random y Random pierde todo.\n",
    "* Chequear la carpeta ./tournaments_logs/Tournament_2021-08-27_20:54:34.339805/ para mas detalle de ésta ejecución."
   ]
  },
  {
   "cell_type": "markdown",
   "id": "5eeedd1a-fdc2-444f-9056-02d96e1cb413",
   "metadata": {},
   "source": [
    "### Conclusiones:\n",
    "* Claramente los modelos iterativos contra muchas estrategias performan mejor que entrenar solo contra Random mucho tiempo.\n",
    "* CNN no fue bueno. La arquitectura elegida contiene una cantidad muy superior de parámetros, teniendo en cuenta que después del features extractor pasa también por la red MLP defecto de PPO. Considero que son necesarias más experiencias en el buffer por epoch."
   ]
  }
 ],
 "metadata": {
  "kernelspec": {
   "display_name": "Python 3",
   "language": "python",
   "name": "python3"
  },
  "language_info": {
   "codemirror_mode": {
    "name": "ipython",
    "version": 3
   },
   "file_extension": ".py",
   "mimetype": "text/x-python",
   "name": "python",
   "nbconvert_exporter": "python",
   "pygments_lexer": "ipython3",
   "version": "3.6.13"
  }
 },
 "nbformat": 4,
 "nbformat_minor": 5
}
