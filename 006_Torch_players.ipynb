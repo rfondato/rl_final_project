{
 "cells": [
  {
   "cell_type": "markdown",
   "metadata": {},
   "source": [
    "# Crear un TorchPlayer\n"
   ]
  },
  {
   "cell_type": "markdown",
   "metadata": {},
   "source": [
    "Recibe el modelo a instanciar como path y juega con el mismo"
   ]
  },
  {
   "cell_type": "markdown",
   "metadata": {},
   "source": [
    "- Pensar como resolver el problema de que solo samplee las válidas\n",
    "- Agregarle la opción de monte carlo tree search (opcional) con las opciones de iterationLimit, timeLimit\n",
    "\n",
    "Si va a agregar MCTS mirar la notebook 007_MCTS.ipnb"
   ]
  },
  {
   "cell_type": "code",
   "execution_count": 9,
   "metadata": {},
   "outputs": [],
   "source": [
    "from players import BasePlayer\n",
    "from boardgame2 import ReversiEnv\n",
    "import numpy as np\n",
    "from typing import Union\n",
    "from stable_baselines3 import PPO"
   ]
  },
  {
   "cell_type": "code",
   "execution_count": 10,
   "metadata": {},
   "outputs": [],
   "source": [
    "class TorchPlayer(BasePlayer):\n",
    "    def __init__(self,\n",
    "                 model_path: str,\n",
    "                 player: int = 1,\n",
    "                 board_shape: int = None,\n",
    "                 env: ReversiEnv = None,\n",
    "                 flatten_action: bool = False,\n",
    "                 deterministic: bool=True,\n",
    "                 only_valid: bool=True,\n",
    "                 mcts: bool=False,\n",
    "                 iterationLimit: int=None,\n",
    "                 timeLimit: int=None\n",
    "                 ):\n",
    "        super.__init__(player, board_shape, env, flatten_action)\n",
    "        self.model = PPO.load(model_path)\n",
    "        self.deterministic = deterministic\n",
    "        self.only_valid = only_valid\n",
    "        self.mcts = mcts\n",
    "        self.iterationLimit = iterationLimit\n",
    "        self.timeLimit = timeLimit\n",
    "\n",
    "    def predict(self, board: np.ndarray) -> Union[int, np.ndarray]:\n",
    "        obs = board\n",
    "        if self.only_valid:\n",
    "            obs = [board, self.env.get_valid((board, 1))]\n",
    "        # The model expects a batch of observations.\n",
    "        # Make a batch of 1 obs\n",
    "        obs = [obs]\n",
    "        action = self.model.predict(obs, deterministic=self.deterministic)[0]\n",
    "        if self.flatten_action:\n",
    "            return action\n",
    "        else:\n",
    "            return np.array([action // self.board_shape, action % self.board_shape])"
   ]
  },
  {
   "cell_type": "markdown",
   "metadata": {},
   "source": [
    "# Arena"
   ]
  },
  {
   "cell_type": "markdown",
   "metadata": {},
   "source": [
    "Testear el jugador contra los distintos jugadores"
   ]
  },
  {
   "cell_type": "code",
   "execution_count": null,
   "metadata": {},
   "outputs": [],
   "source": []
  }
 ],
 "metadata": {
  "kernelspec": {
   "display_name": "Python 3",
   "language": "python",
   "name": "python3"
  },
  "language_info": {
   "codemirror_mode": {
    "name": "ipython",
    "version": 3
   },
   "file_extension": ".py",
   "mimetype": "text/x-python",
   "name": "python",
   "nbconvert_exporter": "python",
   "pygments_lexer": "ipython3",
   "version": "3.8.3"
  }
 },
 "nbformat": 4,
 "nbformat_minor": 5
}
