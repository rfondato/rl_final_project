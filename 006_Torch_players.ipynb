{
 "cells": [
  {
   "cell_type": "markdown",
   "id": "c0d94b8e",
   "metadata": {},
   "source": [
    "# Crear un TorchPlayer\n"
   ]
  },
  {
   "cell_type": "markdown",
   "id": "53b941d2",
   "metadata": {},
   "source": [
    "Recibe el modelo a instanciar como path y juega con el mismo"
   ]
  },
  {
   "cell_type": "markdown",
   "id": "ed459cfe",
   "metadata": {},
   "source": [
    "- Pensar como resolver el problema de que solo samplee las válidas\n",
    "- Agregarle la opción de monte carlo tree search (opcional) con las opciones de iterationLimit, timeLimit\n",
    "\n",
    "Si va a agregar MCTS mirar la notebook 007_MCTS.ipnb"
   ]
  },
  {
   "cell_type": "code",
   "execution_count": 1,
   "id": "ce5e1459",
   "metadata": {},
   "outputs": [],
   "source": [
    "%load_ext autoreload\n",
    "%autoreload 2"
   ]
  },
  {
   "cell_type": "code",
   "execution_count": 4,
   "id": "566714bf",
   "metadata": {},
   "outputs": [],
   "source": [
    "from players import BasePlayer\n",
    "import numpy as np\n",
    "from typing import Union, Optional, Dict, Any\n",
    "from boardgame2 import BoardGameEnv\n",
    "from stable_baselines3 import PPO"
   ]
  },
  {
   "cell_type": "code",
   "execution_count": 5,
   "id": "1874e776",
   "metadata": {},
   "outputs": [],
   "source": [
    "class TorchPlayer(BasePlayer):\n",
    "    def __init__(self,\n",
    "                 player: int = 1,\n",
    "                 env: BoardGameEnv = None,\n",
    "                 flatten_action: bool = False,\n",
    "                 model_path: str = None,\n",
    "                 deterministic: bool = True,\n",
    "                 only_valid: bool = True,\n",
    "                 mcts: bool = False,\n",
    "                 iterationLimit: int = None,\n",
    "                 timeLimit: int = None,\n",
    "                 **custom_kwargs: Optional[Dict[str, Any]]  # Make subclass constructor generic\n",
    "                 ):\n",
    "        super().__init__(player, env, flatten_action)\n",
    "\n",
    "        if model_path is None:\n",
    "            raise Exception(\"model_path cannot be None\")\n",
    "\n",
    "        self.model = PPO.load(model_path)\n",
    "        self.deterministic = deterministic\n",
    "        self.only_valid = only_valid\n",
    "        self.mcts = mcts\n",
    "        self.iterationLimit = iterationLimit\n",
    "        self.timeLimit = timeLimit\n",
    "\n",
    "    def predict(self, board: np.ndarray) -> Union[int, np.ndarray]:\n",
    "        obs = board if (self.player == 1) else -board\n",
    "        if self.only_valid:\n",
    "            obs = [obs, self.env.get_valid((obs, 1))]\n",
    "        # The model expects a batch of observations.\n",
    "        # Make a batch of 1 obs\n",
    "        obs = [obs]\n",
    "        action = self.model.predict(obs, deterministic=self.deterministic)[0]\n",
    "        if self.flatten_action:\n",
    "            return action\n",
    "        else:\n",
    "            return np.array([action // self.board_shape, action % self.board_shape])\n"
   ]
  },
  {
   "cell_type": "markdown",
   "id": "52660ebc",
   "metadata": {},
   "source": [
    "# Arena"
   ]
  },
  {
   "cell_type": "markdown",
   "id": "2d5ccf23",
   "metadata": {},
   "source": [
    "Testear el jugador contra los distintos jugadores"
   ]
  },
  {
   "cell_type": "code",
   "execution_count": 16,
   "id": "4502e693",
   "metadata": {},
   "outputs": [],
   "source": [
    "from arena import Arena\n",
    "from players import RandomPlayer, GreedyPlayer, TorchPlayer\n",
    "from boardgame2 import ReversiEnv"
   ]
  },
  {
   "cell_type": "code",
   "execution_count": 17,
   "id": "f66a1d46",
   "metadata": {},
   "outputs": [],
   "source": [
    "env = ReversiEnv(board_shape=8)"
   ]
  },
  {
   "cell_type": "markdown",
   "id": "0f23c108-ddd3-4fd5-b7a5-64059f192772",
   "metadata": {},
   "source": [
    "## Torch vs Random:"
   ]
  },
  {
   "cell_type": "code",
   "execution_count": 21,
   "id": "d0a113d4",
   "metadata": {},
   "outputs": [],
   "source": [
    "player_1 = TorchPlayer(player=1, env=env, model_path=\"./torch.zip\")\n",
    "player_2 = RandomPlayer(player=-1, env=env)\n",
    "arena = Arena(player_1, player_2, env, verbose=True)"
   ]
  },
  {
   "cell_type": "code",
   "execution_count": 22,
   "id": "35ccbc3a",
   "metadata": {},
   "outputs": [
    {
     "name": "stdout",
     "output_type": "stream",
     "text": [
      "\n",
      "MATCH: TorchPlayer vs RandomPlayer\n",
      "\n",
      "Playing n:100/100 Wins(player 1/ player 2):78.0%/19.0%%\n",
      "\n",
      "AND THE WINNER IS... PLAYER 1!!, of type TorchPlayer\n",
      "\n"
     ]
    }
   ],
   "source": [
    "arena.play(n_games=100)"
   ]
  },
  {
   "cell_type": "code",
   "execution_count": 23,
   "id": "4ffe1c7e",
   "metadata": {},
   "outputs": [
    {
     "name": "stdout",
     "output_type": "stream",
     "text": [
      "\n",
      "####### STATS FOR PLAYER: 1 OF TYPE: TorchPlayer #######\n",
      "\n",
      "Wins as first: 0.6888888888888889\n",
      "Wins as second: 0.8727272727272727\n",
      "Ties: 0.02\n",
      "Plays as first: 45\n",
      "Plays as second: 55\n",
      "Avg game duration: 60.0\n",
      "\n",
      "########################################################\n",
      "            \n",
      "        \n",
      "\n",
      "####### STATS FOR PLAYER: 2 OF TYPE: RandomPlayer #######\n",
      "\n",
      "Wins as first: 0.09090909090909091\n",
      "Wins as second: 0.3111111111111111\n",
      "Ties: 0.02\n",
      "Plays as first: 55\n",
      "Plays as second: 45\n",
      "Avg game duration: 60.0\n",
      "\n",
      "#########################################################\n",
      "            \n",
      "        \n"
     ]
    }
   ],
   "source": [
    "arena.print_players_stats()"
   ]
  },
  {
   "cell_type": "markdown",
   "id": "a2ee52b0-0e01-4328-b276-ea110389f742",
   "metadata": {},
   "source": [
    "## Torch vs Greedy:"
   ]
  },
  {
   "cell_type": "code",
   "execution_count": 30,
   "id": "2eb2d415-b7a4-4b43-b3ef-2370b84ff95f",
   "metadata": {},
   "outputs": [],
   "source": [
    "player_1 = TorchPlayer(player=1, env=env, model_path=\"./torch.zip\")\n",
    "player_2 = GreedyPlayer(player=-1, env=env)\n",
    "arena = Arena(player_2, player_1, env, verbose=True)"
   ]
  },
  {
   "cell_type": "code",
   "execution_count": 31,
   "id": "ee8540e4-451e-4f24-aadd-08eb5088cace",
   "metadata": {},
   "outputs": [
    {
     "name": "stdout",
     "output_type": "stream",
     "text": [
      "\n",
      "MATCH: GreedyPlayer vs TorchPlayer\n",
      "\n",
      "Playing n:100/100 Wins(player 1/ player 2):23.0%/70.0%%\n",
      "\n",
      "AND THE WINNER IS... PLAYER 2!!, of type TorchPlayer\n",
      "\n"
     ]
    }
   ],
   "source": [
    "arena.play(n_games=100)"
   ]
  },
  {
   "cell_type": "code",
   "execution_count": 32,
   "id": "20b87882-bc75-4749-992b-31d9946ed055",
   "metadata": {},
   "outputs": [
    {
     "name": "stdout",
     "output_type": "stream",
     "text": [
      "\n",
      "####### STATS FOR PLAYER: 1 OF TYPE: GreedyPlayer #######\n",
      "\n",
      "Wins as first: 0.24489795918367346\n",
      "Wins as second: 0.21568627450980393\n",
      "Ties: 0.06\n",
      "Plays as first: 49\n",
      "Plays as second: 51\n",
      "Avg game duration: 59.1\n",
      "\n",
      "#########################################################\n",
      "            \n",
      "        \n",
      "\n",
      "####### STATS FOR PLAYER: 2 OF TYPE: TorchPlayer #######\n",
      "\n",
      "Wins as first: 0.7450980392156863\n",
      "Wins as second: 0.673469387755102\n",
      "Ties: 0.06\n",
      "Plays as first: 51\n",
      "Plays as second: 49\n",
      "Avg game duration: 59.1\n",
      "\n",
      "########################################################\n",
      "            \n",
      "        \n"
     ]
    }
   ],
   "source": [
    "arena.print_players_stats()"
   ]
  },
  {
   "cell_type": "markdown",
   "id": "f64ba34d-6d5b-493a-8041-997894e147eb",
   "metadata": {},
   "source": [
    "## Torch vs Torch:"
   ]
  },
  {
   "cell_type": "code",
   "execution_count": 27,
   "id": "22bcea2d-2517-418d-b604-ab2244c20caf",
   "metadata": {},
   "outputs": [],
   "source": [
    "player_1 = TorchPlayer(player=1, env=env, model_path=\"./torch.zip\")\n",
    "player_2 = TorchPlayer(player=-1, env=env, model_path=\"./torch.zip\")\n",
    "arena = Arena(player_1, player_2, env, verbose=True)"
   ]
  },
  {
   "cell_type": "code",
   "execution_count": 28,
   "id": "cc9dae7b-02bf-4a37-950e-564ebfa89c2d",
   "metadata": {},
   "outputs": [
    {
     "name": "stdout",
     "output_type": "stream",
     "text": [
      "\n",
      "MATCH: TorchPlayer vs TorchPlayer\n",
      "\n",
      "Playing n:100/100 Wins(player 1/ player 2):52.0%/47.0%%\n",
      "\n",
      "AND THE WINNER IS... PLAYER 1!!, of type TorchPlayer\n",
      "\n"
     ]
    }
   ],
   "source": [
    "arena.play(n_games=100)"
   ]
  },
  {
   "cell_type": "code",
   "execution_count": 29,
   "id": "5b2e2468-adb2-488c-b754-f970c749d5ff",
   "metadata": {},
   "outputs": [
    {
     "name": "stdout",
     "output_type": "stream",
     "text": [
      "\n",
      "####### STATS FOR PLAYER: 1 OF TYPE: TorchPlayer #######\n",
      "\n",
      "Wins as first: 1.0\n",
      "Wins as second: 0.0\n",
      "Ties: 0.0\n",
      "Plays as first: 52\n",
      "Plays as second: 48\n",
      "Avg game duration: 60.0\n",
      "\n",
      "########################################################\n",
      "            \n",
      "        \n",
      "\n",
      "####### STATS FOR PLAYER: 2 OF TYPE: TorchPlayer #######\n",
      "\n",
      "Wins as first: 1.0\n",
      "Wins as second: 0.0\n",
      "Ties: 0.0\n",
      "Plays as first: 48\n",
      "Plays as second: 52\n",
      "Avg game duration: 60.0\n",
      "\n",
      "########################################################\n",
      "            \n",
      "        \n"
     ]
    }
   ],
   "source": [
    "arena.print_players_stats()"
   ]
  }
 ],
 "metadata": {
  "kernelspec": {
   "display_name": "Python 3",
   "language": "python",
   "name": "python3"
  },
  "language_info": {
   "codemirror_mode": {
    "name": "ipython",
    "version": 3
   },
   "file_extension": ".py",
   "mimetype": "text/x-python",
   "name": "python",
   "nbconvert_exporter": "python",
   "pygments_lexer": "ipython3",
   "version": "3.6.13"
  }
 },
 "nbformat": 4,
 "nbformat_minor": 5
}
