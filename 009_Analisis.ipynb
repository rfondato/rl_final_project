{
 "cells": [
  {
   "cell_type": "markdown",
   "id": "3008c200-8288-4cd8-8bc0-f645d8314973",
   "metadata": {},
   "source": [
    "# Análisis de resultados:"
   ]
  },
  {
   "cell_type": "markdown",
   "id": "f294b26d-e746-46df-abe3-51634722ce85",
   "metadata": {},
   "source": [
    "## Corridas iniciales: Contra RandomPlayer"
   ]
  },
  {
   "cell_type": "markdown",
   "id": "04638a9b-333c-4c01-85ed-215cabcf0614",
   "metadata": {},
   "source": [
    "### El primer paso que realicé es buscar los hiper parámetros que mejor se ajustan al problema. PPO viene con determinados defaults, pero intuitivamente pienso que el problema de reversí de 8x8 contiene simulaciones relativamente cortas (60 pasos promedio), con lo cual el buffer quizás no debería ser tan grande (2048 steps cada epoch)."
   ]
  },
  {
   "cell_type": "markdown",
   "id": "32f0180a-72b7-4175-acef-5d4f91d92b70",
   "metadata": {},
   "source": [
    "Paso 1: Pruebo con valores default y 8 environments paralelos:\n",
    "* Num steps (tamaño del buffer): 2048 x 8 = 16k pasos por epoch\n",
    "* 10 epochs por buffer\n",
    "* batch size: 64\n",
    "* Discount factor, gae lambda, entropy coef, etc. todos por defecto"
   ]
  },
  {
   "cell_type": "code",
   "execution_count": null,
   "id": "adf2f780-1c99-4210-8bc0-50e0e979852e",
   "metadata": {},
   "outputs": [],
   "source": []
  }
 ],
 "metadata": {
  "kernelspec": {
   "display_name": "Python 3",
   "language": "python",
   "name": "python3"
  },
  "language_info": {
   "codemirror_mode": {
    "name": "ipython",
    "version": 3
   },
   "file_extension": ".py",
   "mimetype": "text/x-python",
   "name": "python",
   "nbconvert_exporter": "python",
   "pygments_lexer": "ipython3",
   "version": "3.6.13"
  }
 },
 "nbformat": 4,
 "nbformat_minor": 5
}
