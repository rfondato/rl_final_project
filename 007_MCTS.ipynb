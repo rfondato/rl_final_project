{
 "cells": [
  {
   "cell_type": "code",
   "execution_count": 1,
   "id": "a18fe03f-53fc-45fd-90c7-e87f243bdd0c",
   "metadata": {},
   "outputs": [],
   "source": [
    "%load_ext autoreload\n",
    "%autoreload 2"
   ]
  },
  {
   "cell_type": "code",
   "execution_count": 2,
   "id": "b816888e-dfa2-434b-b79f-e18997c44492",
   "metadata": {},
   "outputs": [],
   "source": [
    "from mcts import mcts, randomPolicy\n",
    "from reversi_state import ReversiState"
   ]
  },
  {
   "cell_type": "markdown",
   "id": "7bcf40cb-c598-4997-997a-f965109fe92a",
   "metadata": {},
   "source": [
    "# Ejemplo"
   ]
  },
  {
   "cell_type": "code",
   "execution_count": 3,
   "id": "652e7b6a-ea53-4322-879f-2ebc6af5efb7",
   "metadata": {},
   "outputs": [],
   "source": [
    "state = ReversiState(board_shape=4)\n",
    "searcher = mcts(iterationLimit=500, explorationConstant=0.8, rolloutPolicy=randomPolicy)\n",
    "resultDict, action = searcher.search(initialState=state, needDetails=True)"
   ]
  },
  {
   "cell_type": "code",
   "execution_count": 4,
   "id": "13f7f856-d598-4c26-91db-df0c898e6283",
   "metadata": {},
   "outputs": [
    {
     "data": {
      "text/plain": [
       "{(0, 2, 1): (-0.6697247706422018, -73, 109, 0.1651376146788991),\n",
       " (1, 3, 1): (-0.7424242424242424, -49, 66, 0.12878787878787878),\n",
       " (2, 0, 1): (-0.7580645161290323, -47, 62, 0.12096774193548387),\n",
       " (3, 1, 1): (-0.5437262357414449, -143, 263, 0.22813688212927757)}"
      ]
     },
     "execution_count": 4,
     "metadata": {},
     "output_type": "execute_result"
    }
   ],
   "source": [
    "resultDict"
   ]
  },
  {
   "cell_type": "markdown",
   "id": "6684c4a5-7ad5-40a5-a364-30dab7dd7fad",
   "metadata": {},
   "source": [
    "# Dado el ejemplo notar:\n",
    "- se puede cortar por tiempo o por iteraciones: iterationLimit, timeLimit\n",
    "- rolloutPolicy puede recibir la policy aprendida luego de entrenar\n",
    "- La clase ReversiState ya esta creada pero analicela para entender cual es la base de la librería mcts"
   ]
  },
  {
   "cell_type": "code",
   "execution_count": null,
   "id": "3c46fe54-be44-45f1-b64b-80b888293592",
   "metadata": {},
   "outputs": [],
   "source": []
  }
 ],
 "metadata": {
  "kernelspec": {
   "display_name": "Python 3",
   "language": "python",
   "name": "python3"
  },
  "language_info": {
   "codemirror_mode": {
    "name": "ipython",
    "version": 3
   },
   "file_extension": ".py",
   "mimetype": "text/x-python",
   "name": "python",
   "nbconvert_exporter": "python",
   "pygments_lexer": "ipython3",
   "version": "3.6.13"
  }
 },
 "nbformat": 4,
 "nbformat_minor": 5
}
