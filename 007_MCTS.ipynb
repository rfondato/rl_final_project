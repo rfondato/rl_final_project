{
 "cells": [
  {
   "cell_type": "code",
   "execution_count": 1,
   "id": "a18fe03f-53fc-45fd-90c7-e87f243bdd0c",
   "metadata": {},
   "outputs": [],
   "source": [
    "%load_ext autoreload\n",
    "%autoreload 2"
   ]
  },
  {
   "cell_type": "code",
   "execution_count": 11,
   "id": "b816888e-dfa2-434b-b79f-e18997c44492",
   "metadata": {},
   "outputs": [],
   "source": [
    "from mcts import mcts, randomPolicy\n",
    "from reversi_state import ReversiState"
   ]
  },
  {
   "cell_type": "markdown",
   "id": "7bcf40cb-c598-4997-997a-f965109fe92a",
   "metadata": {},
   "source": [
    "# Ejemplo"
   ]
  },
  {
   "cell_type": "code",
   "execution_count": 14,
   "id": "652e7b6a-ea53-4322-879f-2ebc6af5efb7",
   "metadata": {},
   "outputs": [],
   "source": [
    "state = ReversiState(board_shape=4)\n",
    "searcher = mcts(iterationLimit=500, explorationConstant=0.8, rolloutPolicy=randomPolicy)\n",
    "resultDict, action = searcher.search(initialState=state, needDetails=True)"
   ]
  },
  {
   "cell_type": "code",
   "execution_count": 15,
   "id": "13f7f856-d598-4c26-91db-df0c898e6283",
   "metadata": {},
   "outputs": [
    {
     "data": {
      "text/plain": [
       "{(0, 2, 1): (-0.7735849056603774, -41, 53, 0.11320754716981132),\n",
       " (1, 3, 1): (-0.646551724137931, -75, 116, 0.17672413793103448),\n",
       " (2, 0, 1): (-0.6440677966101694, -76, 118, 0.17796610169491525),\n",
       " (3, 1, 1): (-0.5446009389671361, -116, 213, 0.22769953051643194)}"
      ]
     },
     "execution_count": 15,
     "metadata": {},
     "output_type": "execute_result"
    }
   ],
   "source": [
    "resultDict"
   ]
  },
  {
   "cell_type": "markdown",
   "id": "6684c4a5-7ad5-40a5-a364-30dab7dd7fad",
   "metadata": {},
   "source": [
    "# Dado el ejemplo notar:\n",
    "- se puede cortar por tiempo o por iteraciones: iterationLimit, timeLimit\n",
    "- rolloutPolicy puede recibir la policy aprendida luego de entrenar\n",
    "- La clase ReversiState ya esta creada pero analicela para entender cual es la base de la librería mcts"
   ]
  },
  {
   "cell_type": "code",
   "execution_count": null,
   "id": "3c46fe54-be44-45f1-b64b-80b888293592",
   "metadata": {},
   "outputs": [],
   "source": []
  }
 ],
 "metadata": {
  "kernelspec": {
   "display_name": "Python 3",
   "language": "python",
   "name": "python3"
  },
  "language_info": {
   "codemirror_mode": {
    "name": "ipython",
    "version": 3
   },
   "file_extension": ".py",
   "mimetype": "text/x-python",
   "name": "python",
   "nbconvert_exporter": "python",
   "pygments_lexer": "ipython3",
   "version": "3.8.10"
  }
 },
 "nbformat": 4,
 "nbformat_minor": 5
}
