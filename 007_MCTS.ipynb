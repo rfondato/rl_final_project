{
 "cells": [
  {
   "cell_type": "code",
   "execution_count": 1,
   "id": "a18fe03f-53fc-45fd-90c7-e87f243bdd0c",
   "metadata": {},
   "outputs": [],
   "source": [
    "%load_ext autoreload\n",
    "%autoreload 2"
   ]
  },
  {
   "cell_type": "code",
   "execution_count": 2,
   "id": "b816888e-dfa2-434b-b79f-e18997c44492",
   "metadata": {},
   "outputs": [],
   "source": [
    "from mcts import mcts, randomPolicy\n",
    "from reversi_state import ReversiState"
   ]
  },
  {
   "cell_type": "markdown",
   "id": "7bcf40cb-c598-4997-997a-f965109fe92a",
   "metadata": {},
   "source": [
    "# Ejemplo"
   ]
  },
  {
   "cell_type": "code",
   "execution_count": 5,
   "id": "652e7b6a-ea53-4322-879f-2ebc6af5efb7",
   "metadata": {},
   "outputs": [],
   "source": [
    "state = ReversiState(board_shape=4)\n",
    "searcher = mcts(iterationLimit=500, explorationConstant=0.8, rolloutPolicy=randomPolicy)\n",
    "resultDict, action = searcher.search(initialState=state, needDetails=True)"
   ]
  },
  {
   "cell_type": "code",
   "execution_count": 6,
   "id": "13f7f856-d598-4c26-91db-df0c898e6283",
   "metadata": {},
   "outputs": [
    {
     "data": {
      "text/plain": [
       "{(0, 2, 1): (-0.7192982456140351, -41, 57, 0.14035087719298245),\n",
       " (1, 3, 1): (-0.546875, -105, 192, 0.2265625),\n",
       " (2, 0, 1): (-0.676056338028169, -48, 71, 0.1619718309859155),\n",
       " (3, 1, 1): (-0.49444444444444446, -89, 180, 0.25277777777777777)}"
      ]
     },
     "execution_count": 6,
     "metadata": {},
     "output_type": "execute_result"
    }
   ],
   "source": [
    "resultDict"
   ]
  },
  {
   "cell_type": "markdown",
   "id": "6684c4a5-7ad5-40a5-a364-30dab7dd7fad",
   "metadata": {},
   "source": [
    "# Dado el ejemplo notar:\n",
    "- se puede cortar por tiempo o por iteraciones: iterationLimit, timeLimit\n",
    "- rolloutPolicy puede recibir la policy aprendida luego de entrenar\n",
    "- La clase ReversiState ya esta creada pero analicela para entender cual es la base de la librería mcts"
   ]
  },
  {
   "cell_type": "markdown",
   "id": "13824a30-8702-417c-9bc1-8402296ba75c",
   "metadata": {},
   "source": [
    "## Aclaraciones para docentes:\n",
    "Reescribí monte carlo tree search en un archivo nuevo (multi_process_mcts.py) e hice los siguientes cambios:\n",
    "* MultiProcessMonteCarlo:\n",
    "    * Nueva clase que puede correr muchas simulaciones en paralelo utilizando múltiples procesos. \n",
    "    * Además cambia el sistema de límites para ser por profundidad (levelLimit) en vez de iteraciones o tiempo. \n",
    "        * Si el nivel de profundidad (levelLimit) es 1, por cada step toma todos los siguientes posibles nodos en base a acciones validas (por lo general 3 o 4) y juega una partida contra si mismo en cada uno utilizando el modelo actual, eligiendo luego la mejor opción. \n",
    "        * Si es 2, toma todos los hijos de los hijos y juega todas esas posibilidades, y luego en base a un reward ponderado por visitas elige la mejor acción.\n",
    "    * El motivo es que correr tantas simulaciones para tomar cada decisión era muy lento, y por eso al utilizarlo con levelLimit=1 y multiples procesos se le da la misma importancia a cada rama del árbol y se corren 3 o 4 juegos en paralelo por movida, acelerando mucho el desarrollo del partido.\n",
    "* CustomReversiState => Reversión de ReversiState con algunos cambios, por ej no hacer deep cloning del env."
   ]
  },
  {
   "cell_type": "markdown",
   "id": "7ec7977b-5751-4de6-b8a5-523b1db53521",
   "metadata": {},
   "source": [
    "#### Referirse al final de la notebook \"006_Torch_players\" donde ejecuto un modelo entrenado contra si mismo, y luego repito el experimento pero el player 1 con Monte Carlo, y se puede observar que mejora considerablemente"
   ]
  }
 ],
 "metadata": {
  "kernelspec": {
   "display_name": "Python 3",
   "language": "python",
   "name": "python3"
  },
  "language_info": {
   "codemirror_mode": {
    "name": "ipython",
    "version": 3
   },
   "file_extension": ".py",
   "mimetype": "text/x-python",
   "name": "python",
   "nbconvert_exporter": "python",
   "pygments_lexer": "ipython3",
   "version": "3.6.13"
  }
 },
 "nbformat": 4,
 "nbformat_minor": 5
}
